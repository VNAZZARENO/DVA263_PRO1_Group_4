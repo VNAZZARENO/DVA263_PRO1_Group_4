{
 "cells": [
  {
   "cell_type": "code",
   "execution_count": 18,
   "metadata": {},
   "outputs": [],
   "source": [
    "import pandas as pd \n",
    "import numpy as np\n",
    "import os\n",
    "\n",
    "from tqdm import tqdm \n",
    "\n",
    "from sklearn.preprocessing import StandardScaler\n",
    "\n"
   ]
  },
  {
   "cell_type": "code",
   "execution_count": 26,
   "metadata": {},
   "outputs": [
    {
     "name": "stdout",
     "output_type": "stream",
     "text": [
      "Processing about_data...\n",
      "Processing simulation_data...\n",
      "Processing track_data...\n"
     ]
    },
    {
     "name": "stderr",
     "output_type": "stream",
     "text": [
      "c:\\Users\\vince\\.conda\\envs\\env_dev_1\\lib\\site-packages\\sklearn\\utils\\extmath.py:1050: RuntimeWarning: invalid value encountered in divide\n",
      "  updated_mean = (last_sum + new_sum) / updated_sample_count\n",
      "c:\\Users\\vince\\.conda\\envs\\env_dev_1\\lib\\site-packages\\sklearn\\utils\\extmath.py:1055: RuntimeWarning: invalid value encountered in divide\n",
      "  T = new_sum / new_sample_count\n",
      "c:\\Users\\vince\\.conda\\envs\\env_dev_1\\lib\\site-packages\\sklearn\\utils\\extmath.py:1075: RuntimeWarning: invalid value encountered in divide\n",
      "  new_unnormalized_variance -= correction**2 / new_sample_count\n"
     ]
    },
    {
     "name": "stdout",
     "output_type": "stream",
     "text": [
      "Preprocessing complete. Files saved:\n",
      "preprocessed_data\\about_data_preprocessed.csv, preprocessed_data\\simulation_data_preprocessed.csv, preprocessed_data\\track_data_preprocessed.csv\n"
     ]
    }
   ],
   "source": [
    "data_dir = \"Simusafe_Dataset\"\n",
    "output_dir = \"preprocessed_data\"\n",
    "\n",
    "os.makedirs(output_dir, exist_ok=True)\n",
    "\n",
    "about_data = pd.read_excel(os.path.join(data_dir, 'About_the_dataset.xlsx'))\n",
    "simulation_data = pd.read_excel(os.path.join(data_dir, 'Feature_Simulation.xlsx'))\n",
    "track_data = pd.read_excel(os.path.join(data_dir, 'Feature_Track.xlsx'))\n",
    "\n",
    "datasets = {\n",
    "    \"about_data\": about_data,\n",
    "    \"simulation_data\": simulation_data,\n",
    "    \"track_data\": track_data,\n",
    "}\n",
    "\n",
    "preprocessed_data = {}\n",
    "\n",
    "for name, data in datasets.items():\n",
    "    print(f\"Processing {name}...\")\n",
    "\n",
    "    data.fillna(data.mean(numeric_only=True), inplace=True)  \n",
    "    \n",
    "    numeric_cols = data.select_dtypes(include='number').columns\n",
    "    scaler = StandardScaler()  \n",
    "    data[numeric_cols] = scaler.fit_transform(data[numeric_cols])\n",
    "\n",
    "    try:\n",
    "        data.drop(columns=\"Unnamed: 0\", axis=1, inplace=True)\n",
    "    except:\n",
    "        pass\n",
    "    \n",
    "    preprocessed_data[name] = data\n",
    "\n",
    "for name, data in preprocessed_data.items():\n",
    "    output_path = os.path.join(output_dir, f'{name}_preprocessed.csv')\n",
    "    data.to_csv(output_path, index=False)\n",
    "\n",
    "print(\"Preprocessing complete. Files saved:\")\n",
    "print(\", \".join([os.path.join(output_dir, f\"{name}_preprocessed.csv\") for name in preprocessed_data]))\n"
   ]
  }
 ],
 "metadata": {
  "kernelspec": {
   "display_name": "env_dev_1",
   "language": "python",
   "name": "python3"
  },
  "language_info": {
   "codemirror_mode": {
    "name": "ipython",
    "version": 3
   },
   "file_extension": ".py",
   "mimetype": "text/x-python",
   "name": "python",
   "nbconvert_exporter": "python",
   "pygments_lexer": "ipython3",
   "version": "3.8.18"
  }
 },
 "nbformat": 4,
 "nbformat_minor": 2
}
